{
 "cells": [
  {
   "cell_type": "markdown",
   "id": "a2285967",
   "metadata": {},
   "source": [
    "# Enhanced DataFrame Display Example\n",
    "\n",
    "This notebook demonstrates the enhanced `display_dataframe` function with interactive features like pagination, search, and filtering."
   ]
  },
  {
   "cell_type": "markdown",
   "id": "78cbe1b9",
   "metadata": {},
   "source": [
    "## Setup\n",
    "\n",
    "First, install the optional notebook dependencies for the best interactive experience:\n",
    "\n",
    "```bash\n",
    "pip install \"KBUtilLib[notebook]\"\n",
    "# Or install individual packages:\n",
    "# pip install ipywidgets itables pandas tqdm\n",
    "```"
   ]
  },
  {
   "cell_type": "code",
   "execution_count": null,
   "id": "db4c293a",
   "metadata": {},
   "outputs": [],
   "source": [
    "import pandas as pd\n",
    "import numpy as np\n",
    "from kbutillib import NotebookUtils\n",
    "\n",
    "# Initialize notebook utilities\n",
    "nb_utils = NotebookUtils(notebook_folder=\".\")"
   ]
  },
  {
   "cell_type": "markdown",
   "id": "dab34385",
   "metadata": {},
   "source": [
    "## Create Sample Data\n",
    "\n",
    "Let's create a larger dataset to demonstrate the pagination and search features."
   ]
  },
  {
   "cell_type": "code",
   "execution_count": null,
   "id": "679e82ab",
   "metadata": {},
   "outputs": [],
   "source": [
    "# Create a sample dataset with 1000 rows\n",
    "np.random.seed(42)\n",
    "n_rows = 1000\n",
    "\n",
    "df = pd.DataFrame({\n",
    "    'ID': range(1, n_rows + 1),\n",
    "    'Name': [f'Item_{i:04d}' for i in range(1, n_rows + 1)],\n",
    "    'Category': np.random.choice(['Electronics', 'Books', 'Clothing', 'Home', 'Sports'], n_rows),\n",
    "    'Price': np.random.uniform(10, 1000, n_rows).round(2),\n",
    "    'Rating': np.random.uniform(1, 5, n_rows).round(1),\n",
    "    'In_Stock': np.random.choice([True, False], n_rows),\n",
    "    'Description': [f'Description for item {i} with various details and information' for i in range(1, n_rows + 1)]\n",
    "})\n",
    "\n",
    "print(f\"Created dataset with {len(df)} rows and {len(df.columns)} columns\")\n",
    "print(f\"Columns: {list(df.columns)}\")"
   ]
  },
  {
   "cell_type": "markdown",
   "id": "ba2859e1",
   "metadata": {},
   "source": [
    "## Basic Enhanced Display\n",
    "\n",
    "The default enhanced display includes:\n",
    "- Pagination (25 rows per page)\n",
    "- Search functionality\n",
    "- Table information\n",
    "- Scrollable content"
   ]
  },
  {
   "cell_type": "code",
   "execution_count": null,
   "id": "5c2bbd1a",
   "metadata": {},
   "outputs": [],
   "source": [
    "# Basic enhanced display - automatically detects large dataset and enables pagination\n",
    "nb_utils.display_dataframe(df)"
   ]
  },
  {
   "cell_type": "markdown",
   "id": "77172f45",
   "metadata": {},
   "source": [
    "## Customized Display Options\n",
    "\n",
    "You can customize various aspects of the display:"
   ]
  },
  {
   "cell_type": "code",
   "execution_count": null,
   "id": "bfb1ca99",
   "metadata": {},
   "outputs": [],
   "source": [
    "# Smaller page size with custom height\n",
    "nb_utils.display_dataframe(\n",
    "    df,\n",
    "    page_size=10,\n",
    "    height=\"300px\",\n",
    "    show_info=True\n",
    ")"
   ]
  },
  {
   "cell_type": "markdown",
   "id": "f08c86d4",
   "metadata": {},
   "source": [
    "## Search and Filter Demonstration\n",
    "\n",
    "Try searching for specific terms like:\n",
    "- \"Electronics\" (category)\n",
    "- \"Item_0001\" (specific item)\n",
    "- \"True\" (in stock items)\n",
    "- Price ranges or ratings"
   ]
  },
  {
   "cell_type": "code",
   "execution_count": null,
   "id": "0251e56b",
   "metadata": {},
   "outputs": [],
   "source": [
    "# Display with search enabled (default)\n",
    "nb_utils.display_dataframe(\n",
    "    df.head(100),  # Smaller subset for demo\n",
    "    page_size=15,\n",
    "    show_search=True\n",
    ")"
   ]
  },
  {
   "cell_type": "markdown",
   "id": "2437e7f3",
   "metadata": {},
   "source": [
    "## Without Interactive Features\n",
    "\n",
    "For smaller datasets or when you prefer simple display:"
   ]
  },
  {
   "cell_type": "code",
   "execution_count": null,
   "id": "ce3f9583",
   "metadata": {},
   "outputs": [],
   "source": [
    "# Disable interactive features\n",
    "nb_utils.display_dataframe(\n",
    "    df.head(20),\n",
    "    use_interactive=False,\n",
    "    scrollable=True\n",
    ")"
   ]
  },
  {
   "cell_type": "markdown",
   "id": "adf1d9da",
   "metadata": {},
   "source": [
    "## Column and Row Limits\n",
    "\n",
    "You can still limit the number of rows and columns displayed:"
   ]
  },
  {
   "cell_type": "code",
   "execution_count": null,
   "id": "8ed63d83",
   "metadata": {},
   "outputs": [],
   "source": [
    "# Limit to first 50 rows and 4 columns\n",
    "nb_utils.display_dataframe(\n",
    "    df,\n",
    "    max_rows=50,\n",
    "    max_cols=4,\n",
    "    page_size=20\n",
    ")"
   ]
  },
  {
   "cell_type": "markdown",
   "id": "177e8133",
   "metadata": {},
   "source": [
    "## Fallback Behavior\n",
    "\n",
    "If interactive libraries aren't available, the function gracefully falls back to:\n",
    "1. Custom pagination widgets (if ipywidgets available)\n",
    "2. Simple paginated display with information\n",
    "3. Basic DataFrame display\n",
    "\n",
    "This ensures your notebooks work regardless of the environment setup."
   ]
  },
  {
   "cell_type": "markdown",
   "id": "06ab1d42",
   "metadata": {},
   "source": [
    "## Installation Tips\n",
    "\n",
    "For the best experience, install the notebook extras:\n",
    "\n",
    "```bash\n",
    "# Install with notebook support\n",
    "pip install \"KBUtilLib[notebook]\"\n",
    "\n",
    "# Or install individual packages as needed:\n",
    "pip install itables          # Modern interactive tables (recommended)\n",
    "pip install qgrid           # Alternative interactive grid widget  \n",
    "pip install ipywidgets      # For custom pagination controls\n",
    "pip install pandas          # DataFrame support\n",
    "pip install tqdm            # Progress bars\n",
    "```\n",
    "\n",
    "The function will automatically detect available libraries and use the best option available."
   ]
  }
 ],
 "metadata": {
  "language_info": {
   "name": "python"
  }
 },
 "nbformat": 4,
 "nbformat_minor": 5
}
