{
 "cells": [
  {
   "cell_type": "markdown",
   "id": "5ea8d8fd",
   "metadata": {},
   "source": [
    "# Testing DataFrame Display with Text Wrapping\n",
    "\n",
    "This notebook demonstrates how to fix table width and text wrapping issues in itables when displaying DataFrames."
   ]
  },
  {
   "cell_type": "markdown",
   "id": "f17c8f7e",
   "metadata": {},
   "source": [
    "## Import Required Libraries\n",
    "\n",
    "Import pandas, itables, and IPython display utilities needed for interactive DataFrame display."
   ]
  },
  {
   "cell_type": "code",
   "execution_count": 2,
   "id": "b3c7cfe8",
   "metadata": {},
   "outputs": [],
   "source": [
    "import pandas as pd\n",
    "import tempfile\n",
    "import sys\n",
    "import os\n",
    "\n",
    "# Add the src directory to Python path for testing\n",
    "sys.path.append('/Users/chenry/acode/KBUtilLib/src')\n",
    "\n",
    "from kbutillib.notebook_utils import NotebookUtils"
   ]
  },
  {
   "cell_type": "markdown",
   "id": "6a1ca197",
   "metadata": {},
   "source": [
    "## Create Sample DataFrames with Long Text\n",
    "\n",
    "Generate test DataFrames with various types of long text content including strings with spaces, URLs, and mixed content to reproduce the wrapping issues."
   ]
  },
  {
   "cell_type": "code",
   "execution_count": 3,
   "id": "0116af79",
   "metadata": {},
   "outputs": [
    {
     "name": "stdout",
     "output_type": "stream",
     "text": [
      "Created DataFrame with 5 rows and 4 columns\n",
      "Column names: ['Short_ID', 'Very_Long_Description', 'URL_Column', 'Mixed_Content']\n",
      "Max text length: 143 characters\n"
     ]
    }
   ],
   "source": [
    "# Create test DataFrame with problematic long text\n",
    "df_wide = pd.DataFrame({\n",
    "    'Short_ID': ['A1', 'B2', 'C3', 'D4', 'E5'],\n",
    "    'Very_Long_Description': [\n",
    "        'This is a very long description that should wrap but often does not wrap properly in default table displays causing horizontal scrolling issues',\n",
    "        'Another extremely long text string with multiple words that demonstrates the text wrapping problem when cells contain lengthy content',\n",
    "        'Here we have yet another long string of text that tests whether the table can handle wrapping of extended content within individual cells',\n",
    "        'This particular entry contains an even longer description with detailed information that would benefit from proper text wrapping functionality',\n",
    "        'The final test entry includes comprehensive text content designed to evaluate how well the table handles extensive textual data within cells'\n",
    "    ],\n",
    "    'URL_Column': [\n",
    "        'https://very-long-domain-name.example.com/path/to/resource/with/many/segments/file.html',\n",
    "        'https://another-extremely-long-url.example.org/api/v1/data/endpoint/with/parameters?param1=value1&param2=value2',\n",
    "        'https://third-long-url.example.net/documents/reports/annual/2023/financial/summary/detailed.pdf',\n",
    "        'https://fourth-url-example.com/research/publications/scientific/papers/bioinformatics/analysis/results.html',\n",
    "        'https://fifth-example-url.org/database/query/results/export/csv/download/file/data.csv'\n",
    "    ],\n",
    "    'Mixed_Content': [\n",
    "        'Gene: ENSG00000139618 | Description: BRCA2 DNA repair associated protein | Function: Involved in homologous recombination repair',\n",
    "        'Protein: P51587 | Name: BRCA2_HUMAN | Length: 3418 amino acids | Molecular weight: 384.2 kDa | Cellular location: Nucleus',\n",
    "        'Pathway: hsa03440 | Name: Homologous recombination | Organisms: Homo sapiens | Gene count: 28 | Reference: KEGG database',\n",
    "        'Variant: rs11571833 | Type: SNP | Position: chr13:32398489 | Alleles: T>A | Clinical significance: Likely pathogenic',\n",
    "        'Experiment: RNA-seq analysis | Sample: Primary tumor tissue | Reads: 50M paired-end | Coverage: 100x | Platform: Illumina NovaSeq'\n",
    "    ]\n",
    "})\n",
    "\n",
    "print(f\"Created DataFrame with {len(df_wide)} rows and {len(df_wide.columns)} columns\")\n",
    "print(f\"Column names: {list(df_wide.columns)}\")\n",
    "print(f\"Max text length: {max(df_wide['Very_Long_Description'].str.len())} characters\")"
   ]
  },
  {
   "cell_type": "markdown",
   "id": "99ddc382",
   "metadata": {},
   "source": [
    "## Basic itables Configuration Issues\n",
    "\n",
    "Demonstrate the current problematic configuration and show why basic width settings don't work as expected with itables."
   ]
  },
  {
   "cell_type": "code",
   "execution_count": 4,
   "id": "d3db7933",
   "metadata": {},
   "outputs": [
    {
     "name": "stderr",
     "output_type": "stream",
     "text": [
      "2025-08-23 09:31:54,852 - kbutillib.notebook_utils.NotebookUtils - INFO - Notebook environment detected\n"
     ]
    },
    {
     "name": "stdout",
     "output_type": "stream",
     "text": [
      "=== TESTING OLD PROBLEMATIC CONFIGURATION ===\n",
      "This would show the issue with tables being too wide...\n",
      "Old problematic settings:\n",
      "  itables.options.style = 'width:100%;'\n",
      "  itables.options.autoWidth = True\n",
      "  Result: Text still doesn't wrap, table remains too wide\n",
      "\n",
      "=== TESTING NEW IMPROVED CONFIGURATION ===\n",
      "Using the improved display_dataframe with text wrapping...\n"
     ]
    },
    {
     "data": {
      "text/html": [
       "<div>\n",
       "<style scoped>\n",
       "    .dataframe tbody tr th:only-of-type {\n",
       "        vertical-align: middle;\n",
       "    }\n",
       "\n",
       "    .dataframe tbody tr th {\n",
       "        vertical-align: top;\n",
       "    }\n",
       "\n",
       "    .dataframe thead th {\n",
       "        text-align: right;\n",
       "    }\n",
       "</style>\n",
       "<table border=\"1\" class=\"dataframe\">\n",
       "  <thead>\n",
       "    <tr style=\"text-align: right;\">\n",
       "      <th></th>\n",
       "      <th>Short_ID</th>\n",
       "      <th>Very_Long_Description</th>\n",
       "      <th>URL_Column</th>\n",
       "      <th>Mixed_Content</th>\n",
       "    </tr>\n",
       "  </thead>\n",
       "  <tbody>\n",
       "    <tr>\n",
       "      <th>0</th>\n",
       "      <td>A1</td>\n",
       "      <td>This is a very long description that should wr...</td>\n",
       "      <td>https://very-long-domain-name.example.com/path...</td>\n",
       "      <td>Gene: ENSG00000139618 | Description: BRCA2 DNA...</td>\n",
       "    </tr>\n",
       "    <tr>\n",
       "      <th>1</th>\n",
       "      <td>B2</td>\n",
       "      <td>Another extremely long text string with multip...</td>\n",
       "      <td>https://another-extremely-long-url.example.org...</td>\n",
       "      <td>Protein: P51587 | Name: BRCA2_HUMAN | Length: ...</td>\n",
       "    </tr>\n",
       "    <tr>\n",
       "      <th>2</th>\n",
       "      <td>C3</td>\n",
       "      <td>Here we have yet another long string of text t...</td>\n",
       "      <td>https://third-long-url.example.net/documents/r...</td>\n",
       "      <td>Pathway: hsa03440 | Name: Homologous recombina...</td>\n",
       "    </tr>\n",
       "    <tr>\n",
       "      <th>3</th>\n",
       "      <td>D4</td>\n",
       "      <td>This particular entry contains an even longer ...</td>\n",
       "      <td>https://fourth-url-example.com/research/public...</td>\n",
       "      <td>Variant: rs11571833 | Type: SNP | Position: ch...</td>\n",
       "    </tr>\n",
       "    <tr>\n",
       "      <th>4</th>\n",
       "      <td>E5</td>\n",
       "      <td>The final test entry includes comprehensive te...</td>\n",
       "      <td>https://fifth-example-url.org/database/query/r...</td>\n",
       "      <td>Experiment: RNA-seq analysis | Sample: Primary...</td>\n",
       "    </tr>\n",
       "  </tbody>\n",
       "</table>\n",
       "</div>"
      ],
      "text/plain": [
       "  Short_ID                              Very_Long_Description  \\\n",
       "0       A1  This is a very long description that should wr...   \n",
       "1       B2  Another extremely long text string with multip...   \n",
       "2       C3  Here we have yet another long string of text t...   \n",
       "3       D4  This particular entry contains an even longer ...   \n",
       "4       E5  The final test entry includes comprehensive te...   \n",
       "\n",
       "                                          URL_Column  \\\n",
       "0  https://very-long-domain-name.example.com/path...   \n",
       "1  https://another-extremely-long-url.example.org...   \n",
       "2  https://third-long-url.example.net/documents/r...   \n",
       "3  https://fourth-url-example.com/research/public...   \n",
       "4  https://fifth-example-url.org/database/query/r...   \n",
       "\n",
       "                                       Mixed_Content  \n",
       "0  Gene: ENSG00000139618 | Description: BRCA2 DNA...  \n",
       "1  Protein: P51587 | Name: BRCA2_HUMAN | Length: ...  \n",
       "2  Pathway: hsa03440 | Name: Homologous recombina...  \n",
       "3  Variant: rs11571833 | Type: SNP | Position: ch...  \n",
       "4  Experiment: RNA-seq analysis | Sample: Primary...  "
      ]
     },
     "metadata": {},
     "output_type": "display_data"
    }
   ],
   "source": [
    "# Initialize NotebookUtils\n",
    "with tempfile.TemporaryDirectory() as tmp_dir:\n",
    "    nb = NotebookUtils(tmp_dir)\n",
    "    \n",
    "    print(\"=== TESTING OLD PROBLEMATIC CONFIGURATION ===\")\n",
    "    print(\"This would show the issue with tables being too wide...\")\n",
    "    \n",
    "    # For demonstration, we'll show what the old config looked like:\n",
    "    print(\"Old problematic settings:\")\n",
    "    print(\"  itables.options.style = 'width:100%;'\")\n",
    "    print(\"  itables.options.autoWidth = True\")\n",
    "    print(\"  Result: Text still doesn't wrap, table remains too wide\")\n",
    "    \n",
    "    print(\"\\n=== TESTING NEW IMPROVED CONFIGURATION ===\")\n",
    "    print(\"Using the improved display_dataframe with text wrapping...\")\n",
    "    \n",
    "    # Test the improved version\n",
    "    nb.display_dataframe(df_wide, use_interactive=True, page_size=10, scrollable=False)"
   ]
  },
  {
   "cell_type": "markdown",
   "id": "5cb67aaf",
   "metadata": {},
   "source": [
    "## CSS-Based Text Wrapping Solutions\n",
    "\n",
    "The key improvements in the new implementation include:\n",
    "\n",
    "1. **Fixed Table Layout**: `table-layout: fixed` forces the table to respect column widths\n",
    "2. **Word Breaking**: `word-wrap: break-word` and `word-break: break-word` allow long words to break\n",
    "3. **Normal White Space**: `white-space: normal !important` overrides DataTables default `nowrap`\n",
    "4. **Maximum Width**: `max-width: 200px` prevents columns from becoming too wide"
   ]
  },
  {
   "cell_type": "code",
   "execution_count": null,
   "id": "214eeac2",
   "metadata": {},
   "outputs": [],
   "source": [
    "# Show the CSS that makes text wrapping work\n",
    "from IPython.display import HTML, display\n",
    "\n",
    "display(HTML(\"\"\"\n",
    "<h4>CSS Rules for Text Wrapping:</h4>\n",
    "<pre style=\"background-color: #f4f4f4; padding: 10px; border-radius: 5px;\">\n",
    ".dataTable td {\n",
    "    word-wrap: break-word;        /* Break long words */\n",
    "    word-break: break-word;       /* Break words if needed */\n",
    "    white-space: normal !important;  /* Override DataTables nowrap */\n",
    "    max-width: 200px;            /* Limit column width */\n",
    "}\n",
    "\n",
    ".dataTable th {\n",
    "    word-wrap: break-word;\n",
    "    word-break: break-word;\n",
    "    white-space: normal !important;\n",
    "}\n",
    "\n",
    "table {\n",
    "    table-layout: fixed;         /* Fixed layout respects column widths */\n",
    "    width: 100%;\n",
    "}\n",
    "</pre>\n",
    "\"\"\"))"
   ]
  },
  {
   "cell_type": "markdown",
   "id": "a88881b3",
   "metadata": {},
   "source": [
    "## DataTables columnDefs Configuration\n",
    "\n",
    "Configure columnDefs with proper render functions and className settings to control text display and wrapping behavior at the column level."
   ]
  },
  {
   "cell_type": "code",
   "execution_count": null,
   "id": "1b03dd8c",
   "metadata": {},
   "outputs": [],
   "source": [
    "# Show the columnDefs configuration\n",
    "display(HTML(\"\"\"\n",
    "<h4>itables columnDefs Configuration:</h4>\n",
    "<pre style=\"background-color: #f4f4f4; padding: 10px; border-radius: 5px;\">\n",
    "itables.options.columnDefs = [\n",
    "    {\n",
    "        \"targets\": \"_all\",                    # Apply to all columns\n",
    "        \"className\": \"text-wrap\",            # Add CSS class for styling\n",
    "        \"render\": \"$.fn.dataTable.render.text()\"  # Safely render text content\n",
    "    }\n",
    "]\n",
    "</pre>\n",
    "\n",
    "<h4>Key Benefits:</h4>\n",
    "<ul>\n",
    "<li><strong>targets: \"_all\"</strong> - Applies wrapping to every column</li>\n",
    "<li><strong>className: \"text-wrap\"</strong> - Adds CSS class for custom styling</li>\n",
    "<li><strong>render.text()</strong> - Safely handles text content and escaping</li>\n",
    "</ul>\n",
    "\"\"\"))"
   ]
  },
  {
   "cell_type": "markdown",
   "id": "1cc6c3ef",
   "metadata": {},
   "source": [
    "## Alternative Layout and Styling Options\n",
    "\n",
    "Explore alternative approaches including scrollX settings, fixed table layouts, and responsive design options for better table display."
   ]
  },
  {
   "cell_type": "code",
   "execution_count": null,
   "id": "ab7f1dde",
   "metadata": {},
   "outputs": [],
   "source": [
    "# Test with horizontal scrolling disabled (better for text wrapping)\n",
    "with tempfile.TemporaryDirectory() as tmp_dir:\n",
    "    nb = NotebookUtils(tmp_dir)\n",
    "    \n",
    "    print(\"=== OPTION 1: No Horizontal Scrolling (Recommended for Text Wrapping) ===\")\n",
    "    nb.display_dataframe(df_wide, use_interactive=True, scrollable=False, page_size=3)\n",
    "    \n",
    "    print(\"\\n=== OPTION 2: With Horizontal Scrolling (Less Wrapping) ===\")\n",
    "    nb.display_dataframe(df_wide, use_interactive=True, scrollable=True, page_size=3)"
   ]
  },
  {
   "cell_type": "markdown",
   "id": "5bc3649b",
   "metadata": {},
   "source": [
    "## Testing Different Table Configurations\n",
    "\n",
    "Compare different configuration combinations and validate which approaches work best for various types of content and table sizes."
   ]
  },
  {
   "cell_type": "code",
   "execution_count": null,
   "id": "7ea71adf",
   "metadata": {},
   "outputs": [],
   "source": [
    "# Test with different DataFrame types\n",
    "test_cases = {\n",
    "    \"Short Content\": pd.DataFrame({\n",
    "        'ID': [1, 2, 3],\n",
    "        'Name': ['Alice', 'Bob', 'Charlie'],\n",
    "        'Score': [85, 92, 78]\n",
    "    }),\n",
    "    \n",
    "    \"Mixed Length\": pd.DataFrame({\n",
    "        'Short': ['A', 'B', 'C'],\n",
    "        'Medium_Length_Column': ['Medium text here', 'Another medium text', 'Third medium entry'],\n",
    "        'Very_Long_Text_Column': [\n",
    "            'This is a very long text that should wrap nicely',\n",
    "            'Another long text entry for testing purposes',\n",
    "            'Third long text entry to validate wrapping behavior'\n",
    "        ]\n",
    "    }),\n",
    "    \n",
    "    \"Numeric with Long Headers\": pd.DataFrame({\n",
    "        'Very_Long_Column_Header_Name_That_Should_Wrap': [1.23, 4.56, 7.89],\n",
    "        'Another_Extremely_Long_Header_Name_For_Testing': [10.1, 20.2, 30.3],\n",
    "        'Short': [100, 200, 300]\n",
    "    })\n",
    "}\n",
    "\n",
    "with tempfile.TemporaryDirectory() as tmp_dir:\n",
    "    nb = NotebookUtils(tmp_dir)\n",
    "    \n",
    "    for test_name, test_df in test_cases.items():\n",
    "        print(f\"\\n=== TESTING: {test_name} ===\")\n",
    "        nb.display_dataframe(test_df, use_interactive=True, page_size=10, scrollable=False)"
   ]
  },
  {
   "cell_type": "markdown",
   "id": "f644b656",
   "metadata": {},
   "source": [
    "## Summary and Recommendations\n",
    "\n",
    "The improved `display_dataframe` function now properly handles text wrapping through:\n",
    "\n",
    "### Key Solutions Implemented:\n",
    "1. **CSS Override**: Custom CSS that forces text wrapping by overriding DataTables defaults\n",
    "2. **Fixed Table Layout**: `table-layout: fixed` ensures consistent column behavior\n",
    "3. **Column Configuration**: `columnDefs` with text rendering and wrapping classes\n",
    "4. **Smart Scrolling**: Disabled horizontal scrolling by default to encourage wrapping\n",
    "\n",
    "### Best Practices:\n",
    "- Use `scrollable=False` for tables with long text content\n",
    "- Set appropriate `page_size` to avoid overwhelming displays\n",
    "- The `max-width: 200px` CSS rule can be adjusted based on your content needs\n",
    "\n",
    "### Usage:\n",
    "```python\n",
    "# For tables with long text - disable scrolling to encourage wrapping\n",
    "nb.display_dataframe(df, scrollable=False, page_size=25)\n",
    "\n",
    "# For tables with mixed content - enable scrolling if needed\n",
    "nb.display_dataframe(df, scrollable=True, page_size=25)\n",
    "```"
   ]
  }
 ],
 "metadata": {
  "kernelspec": {
   "display_name": "modelseed",
   "language": "python",
   "name": "python3"
  },
  "language_info": {
   "codemirror_mode": {
    "name": "ipython",
    "version": 3
   },
   "file_extension": ".py",
   "mimetype": "text/x-python",
   "name": "python",
   "nbconvert_exporter": "python",
   "pygments_lexer": "ipython3",
   "version": "3.9.19"
  }
 },
 "nbformat": 4,
 "nbformat_minor": 5
}
